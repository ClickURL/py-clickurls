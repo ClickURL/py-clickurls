{
 "cells": [
  {
   "attachments": {},
   "cell_type": "markdown",
   "metadata": {},
   "source": [
    "| edit url | short url | original url|\n",
    "|----------|-----------|-------------| \n",
    "|http://localhost:8080/edit/a8098c1a-f86e-11da-bd1a-00112444be1e|http://localhost:8080/12345|https://fastapi.tiangolo.com/|\n",
    "|http://localhost:8080/edit/a8098c1a-f86e-11da-bd1a-00112444be2e|http://localhost:8080/54321|https://plotly.com/graphing-libraries/|\n",
    "|http://localhost:8080/edit/a8098c1a-f86e-11da-bd1a-00112444be3e|http://localhost:8080/qwert|https://docs.pydantic.dev/|"
   ]
  },
  {
   "attachments": {},
   "cell_type": "markdown",
   "metadata": {},
   "source": [
    "| edit url | short url | original url|\n",
    "|----------|-----------|-------------| \n",
    "|https://py-clickurls.up.railway.app/edit/a8098c1a-f86e-11da-bd1a-00112444be1e|https://py-clickurls.up.railway.app/12345|https://fastapi.tiangolo.com/|\n",
    "|https://py-clickurls.up.railway.app/edit/a8098c1a-f86e-11da-bd1a-00112444be1e|https://py-clickurls.up.railway.app/12345|https://fastapi.tiangolo.com/|\n",
    "|https://py-clickurls.up.railway.app/edit/a8098c1a-f86e-11da-bd1a-00112444be1e|https://py-clickurls.up.railway.app/12345|https://fastapi.tiangolo.com/|"
   ]
  },
  {
   "cell_type": "code",
   "execution_count": 3,
   "metadata": {},
   "outputs": [
    {
     "ename": "AttributeError",
     "evalue": "module 'datetime' has no attribute 'now'",
     "output_type": "error",
     "traceback": [
      "\u001b[1;31m---------------------------------------------------------------------------\u001b[0m",
      "\u001b[1;31mAttributeError\u001b[0m                            Traceback (most recent call last)",
      "Cell \u001b[1;32mIn[3], line 3\u001b[0m\n\u001b[0;32m      1\u001b[0m \u001b[39mimport\u001b[39;00m \u001b[39mdatetime\u001b[39;00m\n\u001b[1;32m----> 3\u001b[0m \u001b[39mprint\u001b[39m(datetime\u001b[39m.\u001b[39;49mnow())\n",
      "\u001b[1;31mAttributeError\u001b[0m: module 'datetime' has no attribute 'now'"
     ]
    }
   ],
   "source": [
    "import datetime\n",
    "\n",
    "print(datetime.now())"
   ]
  }
 ],
 "metadata": {
  "kernelspec": {
   "display_name": "Python 3",
   "language": "python",
   "name": "python3"
  },
  "language_info": {
   "codemirror_mode": {
    "name": "ipython",
    "version": 3
   },
   "file_extension": ".py",
   "mimetype": "text/x-python",
   "name": "python",
   "nbconvert_exporter": "python",
   "pygments_lexer": "ipython3",
   "version": "3.11.0"
  },
  "orig_nbformat": 4
 },
 "nbformat": 4,
 "nbformat_minor": 2
}
