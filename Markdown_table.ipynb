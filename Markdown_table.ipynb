{
 "cells": [
  {
   "attachments": {},
   "cell_type": "markdown",
   "metadata": {},
   "source": [
    "| edit url | short url | original url|\n",
    "|----------|-----------|-------------| \n",
    "|http://localhost:8080/edit/a8098c1a-f86e-11da-bd1a-00112444be1e|http://localhost:8080/12345|https://fastapi.tiangolo.com/|\n",
    "|http://localhost:8080/edit/a8098c1a-f86e-11da-bd1a-00112444be2e|http://localhost:8080/54321|https://plotly.com/graphing-libraries/|\n",
    "|http://localhost:8080/edit/a8098c1a-f86e-11da-bd1a-00112444be3e|http://localhost:8080/qwert|https://docs.pydantic.dev/|"
   ]
  },
  {
   "cell_type": "code",
   "execution_count": 5,
   "metadata": {},
   "outputs": [
    {
     "name": "stdout",
     "output_type": "stream",
     "text": [
      "google\n"
     ]
    }
   ],
   "source": [
    "from enum import Enum\n",
    "\n",
    "class Provider(Enum):\n",
    "    github\n",
    "    gitlab\n",
    "    bitbucket\n",
    "    figna\n",
    "    dribbble\n",
    "    behance\n",
    "    linkedin\n",
    "    xing\n",
    "    google\n",
    "    \n",
    "\n",
    "print(Provider.)"
   ]
  }
 ],
 "metadata": {
  "kernelspec": {
   "display_name": "Python 3",
   "language": "python",
   "name": "python3"
  },
  "language_info": {
   "codemirror_mode": {
    "name": "ipython",
    "version": 3
   },
   "file_extension": ".py",
   "mimetype": "text/x-python",
   "name": "python",
   "nbconvert_exporter": "python",
   "pygments_lexer": "ipython3",
   "version": "3.11.0"
  },
  "orig_nbformat": 4
 },
 "nbformat": 4,
 "nbformat_minor": 2
}
