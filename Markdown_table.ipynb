{
 "cells": [
  {
   "attachments": {},
   "cell_type": "markdown",
   "metadata": {},
   "source": [
    "| edit url | short url | original url|\n",
    "|----------|-----------|-------------| \n",
    "|http://localhost:8080/edit/a8098c1a-f86e-11da-bd1a-00112444be1e|http://localhost:8080/12345|https://fastapi.tiangolo.com/|\n",
    "|http://localhost:8080/edit/a8098c1a-f86e-11da-bd1a-00112444be2e|http://localhost:8080/54321|https://plotly.com/graphing-libraries/|\n",
    "|http://localhost:8080/edit/a8098c1a-f86e-11da-bd1a-00112444be3e|http://localhost:8080/qwert|https://docs.pydantic.dev/|"
   ]
  }
 ],
 "metadata": {
  "kernelspec": {
   "display_name": "Python 3",
   "language": "python",
   "name": "python3"
  },
  "language_info": {
   "name": "python",
   "version": "3.11.0"
  },
  "orig_nbformat": 4
 },
 "nbformat": 4,
 "nbformat_minor": 2
}
